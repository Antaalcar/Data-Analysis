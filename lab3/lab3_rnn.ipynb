{
 "cells": [
  {
   "cell_type": "code",
   "execution_count": 9,
   "id": "33631e56",
   "metadata": {},
   "outputs": [],
   "source": [
    "import matplotlib.pyplot as plt\n",
    "import numpy as np\n",
    "import pandas as pd\n",
    "import seaborn as sns\n",
    "from sklearn.preprocessing import LabelEncoder\n",
    "import tensorflow as tf\n",
    "import keras"
   ]
  },
  {
   "cell_type": "code",
   "execution_count": 2,
   "id": "ff47bde1",
   "metadata": {},
   "outputs": [
    {
     "data": {
      "text/html": [
       "<div>\n",
       "<style scoped>\n",
       "    .dataframe tbody tr th:only-of-type {\n",
       "        vertical-align: middle;\n",
       "    }\n",
       "\n",
       "    .dataframe tbody tr th {\n",
       "        vertical-align: top;\n",
       "    }\n",
       "\n",
       "    .dataframe thead th {\n",
       "        text-align: right;\n",
       "    }\n",
       "</style>\n",
       "<table border=\"1\" class=\"dataframe\">\n",
       "  <thead>\n",
       "    <tr style=\"text-align: right;\">\n",
       "      <th></th>\n",
       "      <th>Text</th>\n",
       "      <th>Label</th>\n",
       "    </tr>\n",
       "  </thead>\n",
       "  <tbody>\n",
       "    <tr>\n",
       "      <th>3</th>\n",
       "      <td>Rwanda is set to host the headquarters of Unit...</td>\n",
       "      <td>positive</td>\n",
       "    </tr>\n",
       "    <tr>\n",
       "      <th>5</th>\n",
       "      <td>It sucks for me since I'm focused on the natur...</td>\n",
       "      <td>negative</td>\n",
       "    </tr>\n",
       "    <tr>\n",
       "      <th>8</th>\n",
       "      <td>Social Security. Constant political crises dis...</td>\n",
       "      <td>negative</td>\n",
       "    </tr>\n",
       "    <tr>\n",
       "      <th>9</th>\n",
       "      <td>@FilmThePoliceLA A broken rib can puncture a l...</td>\n",
       "      <td>negative</td>\n",
       "    </tr>\n",
       "    <tr>\n",
       "      <th>10</th>\n",
       "      <td>@jacobringenwald @aKeithWatts @CountDankulaTV ...</td>\n",
       "      <td>negative</td>\n",
       "    </tr>\n",
       "    <tr>\n",
       "      <th>...</th>\n",
       "      <td>...</td>\n",
       "      <td>...</td>\n",
       "    </tr>\n",
       "    <tr>\n",
       "      <th>18906</th>\n",
       "      <td>@grimsbeard @wewerenishiki I mean it's cute......</td>\n",
       "      <td>positive</td>\n",
       "    </tr>\n",
       "    <tr>\n",
       "      <th>18908</th>\n",
       "      <td>@nappynapkin Good night 🌙 sleep well 😴 and don...</td>\n",
       "      <td>positive</td>\n",
       "    </tr>\n",
       "    <tr>\n",
       "      <th>18909</th>\n",
       "      <td>@_SilverCrystal_ Dang poor Jett looks like the...</td>\n",
       "      <td>negative</td>\n",
       "    </tr>\n",
       "    <tr>\n",
       "      <th>18910</th>\n",
       "      <td>Strive is a good game tho.\\nAnd i wish it beca...</td>\n",
       "      <td>positive</td>\n",
       "    </tr>\n",
       "    <tr>\n",
       "      <th>18913</th>\n",
       "      <td>years ago, I typed out pages from the Bible on...</td>\n",
       "      <td>negative</td>\n",
       "    </tr>\n",
       "  </tbody>\n",
       "</table>\n",
       "<p>10000 rows × 2 columns</p>\n",
       "</div>"
      ],
      "text/plain": [
       "                                                    Text     Label\n",
       "3      Rwanda is set to host the headquarters of Unit...  positive\n",
       "5      It sucks for me since I'm focused on the natur...  negative\n",
       "8      Social Security. Constant political crises dis...  negative\n",
       "9      @FilmThePoliceLA A broken rib can puncture a l...  negative\n",
       "10     @jacobringenwald @aKeithWatts @CountDankulaTV ...  negative\n",
       "...                                                  ...       ...\n",
       "18906  @grimsbeard @wewerenishiki I mean it's cute......  positive\n",
       "18908  @nappynapkin Good night 🌙 sleep well 😴 and don...  positive\n",
       "18909  @_SilverCrystal_ Dang poor Jett looks like the...  negative\n",
       "18910  Strive is a good game tho.\\nAnd i wish it beca...  positive\n",
       "18913  years ago, I typed out pages from the Bible on...  negative\n",
       "\n",
       "[10000 rows x 2 columns]"
      ]
     },
     "execution_count": 2,
     "metadata": {},
     "output_type": "execute_result"
    }
   ],
   "source": [
    "df = pd.read_csv('nlp/dataset.csv')\n",
    "df = df.drop(df[df['Language'] != 'en'].index)\n",
    "df = df.drop(df[df['Label'] == 'litigious'].index)\n",
    "df = df.drop(df[df['Label'] == 'uncertainty'].index)\n",
    "df = df.drop(['Language'], axis=1)\n",
    "df = df[:10000]\n",
    "df"
   ]
  },
  {
   "cell_type": "code",
   "execution_count": 15,
   "id": "1b3f4afd",
   "metadata": {},
   "outputs": [],
   "source": [
    "from sklearn.model_selection import train_test_split\n",
    "x = df['Text']\n",
    "y = df['Label']\n",
    "le = LabelEncoder()\n",
    "y = le.fit_transform(y)\n",
    "x_train, x_test, y_train, y_test = train_test_split(x, y, test_size=0.20)"
   ]
  },
  {
   "cell_type": "code",
   "execution_count": 16,
   "id": "ed789d2b",
   "metadata": {},
   "outputs": [],
   "source": [
    "train = tf.data.Dataset.from_tensor_slices((x_train, y_train))\n",
    "test = tf.data.Dataset.from_tensor_slices((x_test, y_test))"
   ]
  },
  {
   "cell_type": "code",
   "execution_count": 17,
   "id": "c5eadb72",
   "metadata": {},
   "outputs": [],
   "source": [
    "train = train.batch(64).prefetch(tf.data.AUTOTUNE)\n",
    "test = test.batch(64).prefetch(tf.data.AUTOTUNE)"
   ]
  },
  {
   "cell_type": "code",
   "execution_count": 18,
   "id": "c1f9f50c",
   "metadata": {},
   "outputs": [
    {
     "name": "stdout",
     "output_type": "stream",
     "text": [
      "Model: \"sequential_1\"\n",
      "_________________________________________________________________\n",
      " Layer (type)                Output Shape              Param #   \n",
      "=================================================================\n",
      " text_vectorization_1 (TextV  (None, None)             0         \n",
      " ectorization)                                                   \n",
      "                                                                 \n",
      " embedding_1 (Embedding)     (None, None, 64)          64000     \n",
      "                                                                 \n",
      " bidirectional_1 (Bidirectio  (None, 128)              66048     \n",
      " nal)                                                            \n",
      "                                                                 \n",
      " dense_2 (Dense)             (None, 64)                8256      \n",
      "                                                                 \n",
      " dense_3 (Dense)             (None, 1)                 65        \n",
      "                                                                 \n",
      "=================================================================\n",
      "Total params: 138,369\n",
      "Trainable params: 138,369\n",
      "Non-trainable params: 0\n",
      "_________________________________________________________________\n"
     ]
    }
   ],
   "source": [
    "vectorizer = keras.layers.TextVectorization(max_tokens=1000)\n",
    "vectorizer.adapt(train.map(lambda text, label: text))\n",
    "model = keras.Sequential([\n",
    "    vectorizer,\n",
    "    keras.layers.Embedding(input_dim=len(vectorizer.get_vocabulary()), output_dim=64, mask_zero=True),\n",
    "    keras.layers.Bidirectional(keras.layers.LSTM(64)),\n",
    "    keras.layers.Dense(64, activation='relu'),\n",
    "    keras.layers.Dense(1)\n",
    "    \n",
    "    \n",
    "])\n",
    "model.summary()"
   ]
  },
  {
   "cell_type": "code",
   "execution_count": 19,
   "id": "49176536",
   "metadata": {},
   "outputs": [],
   "source": [
    "model.compile(loss=keras.losses.BinaryCrossentropy(from_logits=True),optimizer=keras.optimizers.Adam(1e-4),metrics=['accuracy'])"
   ]
  },
  {
   "cell_type": "code",
   "execution_count": 20,
   "id": "c6e226c1",
   "metadata": {},
   "outputs": [
    {
     "name": "stdout",
     "output_type": "stream",
     "text": [
      "Epoch 1/32\n",
      "125/125 [==============================] - 14s 67ms/step - loss: 0.6895 - accuracy: 0.4879 - val_loss: 0.6833 - val_accuracy: 0.5083\n",
      "Epoch 2/32\n",
      "125/125 [==============================] - 6s 51ms/step - loss: 0.5930 - accuracy: 0.5859 - val_loss: 0.4243 - val_accuracy: 0.8115\n",
      "Epoch 3/32\n",
      "125/125 [==============================] - 7s 52ms/step - loss: 0.2955 - accuracy: 0.9170 - val_loss: 0.2123 - val_accuracy: 0.9536\n",
      "Epoch 4/32\n",
      "125/125 [==============================] - 7s 53ms/step - loss: 0.1519 - accuracy: 0.9721 - val_loss: 0.1401 - val_accuracy: 0.9682\n",
      "Epoch 5/32\n",
      "125/125 [==============================] - 8s 62ms/step - loss: 0.1054 - accuracy: 0.9776 - val_loss: 0.1515 - val_accuracy: 0.9615\n",
      "Epoch 6/32\n",
      "125/125 [==============================] - 8s 62ms/step - loss: 0.0986 - accuracy: 0.9764 - val_loss: 0.1456 - val_accuracy: 0.9620\n",
      "Epoch 7/32\n",
      "125/125 [==============================] - 8s 62ms/step - loss: 0.0648 - accuracy: 0.9844 - val_loss: 0.0999 - val_accuracy: 0.9708\n",
      "Epoch 8/32\n",
      "125/125 [==============================] - 8s 62ms/step - loss: 0.0524 - accuracy: 0.9861 - val_loss: 0.1006 - val_accuracy: 0.9703\n",
      "Epoch 9/32\n",
      "125/125 [==============================] - 8s 62ms/step - loss: 0.0441 - accuracy: 0.9890 - val_loss: 0.1144 - val_accuracy: 0.9698\n",
      "Epoch 10/32\n",
      "125/125 [==============================] - 8s 62ms/step - loss: 0.0393 - accuracy: 0.9906 - val_loss: 0.1989 - val_accuracy: 0.9630\n",
      "Epoch 11/32\n",
      "125/125 [==============================] - 8s 63ms/step - loss: 0.0359 - accuracy: 0.9912 - val_loss: 0.2053 - val_accuracy: 0.9641\n",
      "Epoch 12/32\n",
      "125/125 [==============================] - 8s 63ms/step - loss: 0.0308 - accuracy: 0.9926 - val_loss: 0.2098 - val_accuracy: 0.9667\n",
      "Epoch 13/32\n",
      "125/125 [==============================] - 8s 63ms/step - loss: 0.0282 - accuracy: 0.9929 - val_loss: 0.1587 - val_accuracy: 0.9703\n",
      "Epoch 14/32\n",
      "125/125 [==============================] - 8s 63ms/step - loss: 0.0278 - accuracy: 0.9919 - val_loss: 0.2545 - val_accuracy: 0.9615\n",
      "Epoch 15/32\n",
      "125/125 [==============================] - 8s 63ms/step - loss: 0.0279 - accuracy: 0.9927 - val_loss: 0.2165 - val_accuracy: 0.9635\n",
      "Epoch 16/32\n",
      "125/125 [==============================] - 8s 63ms/step - loss: 0.0292 - accuracy: 0.9908 - val_loss: 0.1573 - val_accuracy: 0.9672\n",
      "Epoch 17/32\n",
      "125/125 [==============================] - 8s 63ms/step - loss: 0.0280 - accuracy: 0.9918 - val_loss: 0.3352 - val_accuracy: 0.9495\n",
      "Epoch 18/32\n",
      "125/125 [==============================] - 8s 64ms/step - loss: 0.0291 - accuracy: 0.9905 - val_loss: 0.1261 - val_accuracy: 0.9719\n",
      "Epoch 19/32\n",
      "125/125 [==============================] - 8s 64ms/step - loss: 0.0206 - accuracy: 0.9933 - val_loss: 0.1298 - val_accuracy: 0.9719\n",
      "Epoch 20/32\n",
      "125/125 [==============================] - 8s 64ms/step - loss: 0.0214 - accuracy: 0.9934 - val_loss: 0.1454 - val_accuracy: 0.9698\n",
      "Epoch 21/32\n",
      "125/125 [==============================] - 8s 64ms/step - loss: 0.0226 - accuracy: 0.9931 - val_loss: 0.4982 - val_accuracy: 0.9391\n",
      "Epoch 22/32\n",
      "125/125 [==============================] - 8s 64ms/step - loss: 0.0216 - accuracy: 0.9931 - val_loss: 0.1384 - val_accuracy: 0.9703\n",
      "Epoch 23/32\n",
      "125/125 [==============================] - 8s 64ms/step - loss: 0.0160 - accuracy: 0.9948 - val_loss: 0.1408 - val_accuracy: 0.9698\n",
      "Epoch 24/32\n",
      "125/125 [==============================] - 8s 65ms/step - loss: 0.0150 - accuracy: 0.9949 - val_loss: 0.1441 - val_accuracy: 0.9714\n",
      "Epoch 25/32\n",
      "125/125 [==============================] - 8s 65ms/step - loss: 0.0194 - accuracy: 0.9930 - val_loss: 0.1579 - val_accuracy: 0.9693\n",
      "Epoch 26/32\n",
      "125/125 [==============================] - 8s 65ms/step - loss: 0.0183 - accuracy: 0.9940 - val_loss: 0.1531 - val_accuracy: 0.9734\n",
      "Epoch 27/32\n",
      "125/125 [==============================] - 8s 65ms/step - loss: 0.0128 - accuracy: 0.9954 - val_loss: 0.1506 - val_accuracy: 0.9714\n",
      "Epoch 28/32\n",
      "125/125 [==============================] - 8s 67ms/step - loss: 0.0118 - accuracy: 0.9956 - val_loss: 0.1678 - val_accuracy: 0.9698\n",
      "Epoch 29/32\n",
      "125/125 [==============================] - 9s 71ms/step - loss: 0.0107 - accuracy: 0.9962 - val_loss: 0.1708 - val_accuracy: 0.9693\n",
      "Epoch 30/32\n",
      "125/125 [==============================] - 8s 66ms/step - loss: 0.0100 - accuracy: 0.9964 - val_loss: 0.1711 - val_accuracy: 0.9693\n",
      "Epoch 31/32\n",
      "125/125 [==============================] - 8s 67ms/step - loss: 0.0094 - accuracy: 0.9965 - val_loss: 0.1755 - val_accuracy: 0.9688\n",
      "Epoch 32/32\n",
      "125/125 [==============================] - 8s 65ms/step - loss: 0.0089 - accuracy: 0.9967 - val_loss: 0.1792 - val_accuracy: 0.9682\n"
     ]
    }
   ],
   "source": [
    "history = model.fit(train, epochs=32, validation_data=test, validation_steps=30)"
   ]
  },
  {
   "cell_type": "code",
   "execution_count": 21,
   "id": "133d302f",
   "metadata": {},
   "outputs": [
    {
     "name": "stdout",
     "output_type": "stream",
     "text": [
      "32/32 [==============================] - 1s 26ms/step - loss: 0.1869 - accuracy: 0.9680\n"
     ]
    },
    {
     "data": {
      "text/plain": [
       "[0.18688012659549713, 0.9679999947547913]"
      ]
     },
     "execution_count": 21,
     "metadata": {},
     "output_type": "execute_result"
    }
   ],
   "source": [
    "model.evaluate(test)"
   ]
  },
  {
   "cell_type": "code",
   "execution_count": null,
   "id": "89e7b5da",
   "metadata": {},
   "outputs": [],
   "source": []
  }
 ],
 "metadata": {
  "kernelspec": {
   "display_name": "Python 3 (ipykernel)",
   "language": "python",
   "name": "python3"
  },
  "language_info": {
   "codemirror_mode": {
    "name": "ipython",
    "version": 3
   },
   "file_extension": ".py",
   "mimetype": "text/x-python",
   "name": "python",
   "nbconvert_exporter": "python",
   "pygments_lexer": "ipython3",
   "version": "3.9.1"
  }
 },
 "nbformat": 4,
 "nbformat_minor": 5
}
