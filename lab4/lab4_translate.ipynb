{
  "nbformat": 4,
  "nbformat_minor": 0,
  "metadata": {
    "colab": {
      "provenance": []
    },
    "kernelspec": {
      "name": "python3",
      "display_name": "Python 3"
    },
    "language_info": {
      "name": "python"
    },
    "accelerator": "GPU",
    "gpuClass": "standard"
  },
  "cells": [
    {
      "cell_type": "code",
      "execution_count": 1,
      "metadata": {
        "id": "wLjOpSFmoVTr"
      },
      "outputs": [],
      "source": [
        "import pathlib\n",
        "import random\n",
        "import string\n",
        "import re\n",
        "import numpy as np\n",
        "import tensorflow as tf\n",
        "from tensorflow import keras\n",
        "from tensorflow.keras import layers\n",
        "from tensorflow.keras.layers import TextVectorization"
      ]
    },
    {
      "cell_type": "code",
      "source": [
        "url = 'https://www.manythings.org/anki/pol-eng.zip'\n",
        "!curl https://www.manythings.org/anki/pol-eng.zip -o /tmp/pol-eng.zip\n",
        "!unzip /tmp/pol-eng.zip\n",
        "\n"
      ],
      "metadata": {
        "colab": {
          "base_uri": "https://localhost:8080/"
        },
        "id": "a1j4EBVbolqw",
        "outputId": "474f477e-5e72-4001-b2a4-568bb20971cd"
      },
      "execution_count": 2,
      "outputs": [
        {
          "output_type": "stream",
          "name": "stdout",
          "text": [
            "  % Total    % Received % Xferd  Average Speed   Time    Time     Time  Current\n",
            "                                 Dload  Upload   Total   Spent    Left  Speed\n",
            "100 1800k  100 1800k    0     0  2304k      0 --:--:-- --:--:-- --:--:-- 2302k\n",
            "Archive:  /tmp/pol-eng.zip\n",
            "  inflating: pol.txt                 \n",
            "  inflating: _about.txt              \n"
          ]
        }
      ]
    },
    {
      "cell_type": "code",
      "source": [
        "with open('pol.txt') as f:\n",
        "  lines = f.read().split('\\n')[:-1]\n",
        "text_pairs = []\n",
        "for line in lines:\n",
        "    eng, pol, _ = line.split(\"\\t\")\n",
        "    pol = \"[start] \" + pol + \" [end]\"\n",
        "    text_pairs.append((eng, pol))"
      ],
      "metadata": {
        "id": "zht9D04dpw8w"
      },
      "execution_count": 3,
      "outputs": []
    },
    {
      "cell_type": "code",
      "source": [
        "for _ in range(5):\n",
        "    print(random.choice(text_pairs))"
      ],
      "metadata": {
        "colab": {
          "base_uri": "https://localhost:8080/"
        },
        "id": "ydJiy-Kmp-HP",
        "outputId": "f8724ddb-5834-4d7c-8231-05a42a268d5a"
      },
      "execution_count": 4,
      "outputs": [
        {
          "output_type": "stream",
          "name": "stdout",
          "text": [
            "('I write songs.', '[start] Piszę piosenki. [end]')\n",
            "('I figured everyone was hungry.', '[start] Pomyślałem, że wszyscy są głodni. [end]')\n",
            "('You arrived too early.', '[start] Przyszedłeś za wcześnie. [end]')\n",
            "('Pineapple tastes good.', '[start] Ananas dobrze smakuje. [end]')\n",
            "('I was robbed.', '[start] Zostałam okradziona. [end]')\n"
          ]
        }
      ]
    },
    {
      "cell_type": "code",
      "source": [
        "random.shuffle(text_pairs)\n",
        "num_val_samples = int(0.15 * len(text_pairs))\n",
        "num_train_samples = len(text_pairs) - 2 * num_val_samples\n",
        "train_pairs = text_pairs[:num_train_samples]\n",
        "val_pairs = text_pairs[num_train_samples : num_train_samples + num_val_samples]\n",
        "test_pairs = text_pairs[num_train_samples + num_val_samples :]\n",
        "\n",
        "print(f\"{len(text_pairs)} total pairs\")\n",
        "print(f\"{len(train_pairs)} training pairs\")\n",
        "print(f\"{len(val_pairs)} validation pairs\")\n",
        "print(f\"{len(test_pairs)} test pairs\")"
      ],
      "metadata": {
        "colab": {
          "base_uri": "https://localhost:8080/"
        },
        "id": "52wuxeMpp_f5",
        "outputId": "bccc7dfc-08e3-436c-f4f5-13306a4feb24"
      },
      "execution_count": 5,
      "outputs": [
        {
          "output_type": "stream",
          "name": "stdout",
          "text": [
            "46424 total pairs\n",
            "32498 training pairs\n",
            "6963 validation pairs\n",
            "6963 test pairs\n"
          ]
        }
      ]
    },
    {
      "cell_type": "code",
      "source": [
        "strip_chars = string.punctuation + \"¿…™\"\n",
        "strip_chars = strip_chars.replace(\"[\", \"\")\n",
        "strip_chars = strip_chars.replace(\"]\", \"\")\n",
        "\n",
        "vocab_size = 15000\n",
        "sequence_length = 20\n",
        "batch_size = 64\n",
        "\n",
        "\n",
        "def custom_standardization(input_string):\n",
        "    lowercase = tf.strings.lower(input_string)\n",
        "    return tf.strings.regex_replace(lowercase, \"[%s]\" % re.escape(strip_chars), \"\")\n",
        "\n",
        "\n",
        "eng_vectorization = TextVectorization(\n",
        "    max_tokens=vocab_size, output_mode=\"int\", output_sequence_length=sequence_length,\n",
        ")\n",
        "pol_vectorization = TextVectorization(\n",
        "    max_tokens=vocab_size,\n",
        "    output_mode=\"int\",\n",
        "    output_sequence_length=sequence_length + 1,\n",
        "    standardize=custom_standardization,\n",
        ")\n",
        "train_eng_texts = [pair[0] for pair in train_pairs]\n",
        "train_pol_texts = [pair[1] for pair in train_pairs]\n",
        "eng_vectorization.adapt(train_eng_texts)\n",
        "pol_vectorization.adapt(train_pol_texts)"
      ],
      "metadata": {
        "id": "dpUxvBntqDko"
      },
      "execution_count": 6,
      "outputs": []
    },
    {
      "cell_type": "code",
      "source": [
        "def format_dataset(eng, pol):\n",
        "    eng = eng_vectorization(eng)\n",
        "    pol = pol_vectorization(pol)\n",
        "    return ({\"encoder_inputs\": eng, \"decoder_inputs\": pol[:, :-1],}, pol[:, 1:])\n",
        "\n",
        "\n",
        "def make_dataset(pairs):\n",
        "    eng_texts, pol_texts = zip(*pairs)\n",
        "    eng_texts = list(eng_texts)\n",
        "    pol_texts = list(pol_texts)\n",
        "    dataset = tf.data.Dataset.from_tensor_slices((eng_texts, pol_texts))\n",
        "    dataset = dataset.batch(batch_size)\n",
        "    dataset = dataset.map(format_dataset)\n",
        "    return dataset.shuffle(2048).prefetch(16).cache()\n",
        "\n",
        "\n",
        "train_ds = make_dataset(train_pairs)\n",
        "val_ds = make_dataset(val_pairs)"
      ],
      "metadata": {
        "id": "rsWN6kUCqGBP"
      },
      "execution_count": 7,
      "outputs": []
    },
    {
      "cell_type": "code",
      "source": [
        "for inputs, targets in train_ds.take(1):\n",
        "    print(f'inputs[\"encoder_inputs\"].shape: {inputs[\"encoder_inputs\"].shape}')\n",
        "    print(f'inputs[\"decoder_inputs\"].shape: {inputs[\"decoder_inputs\"].shape}')\n",
        "    print(f\"targets.shape: {targets.shape}\")"
      ],
      "metadata": {
        "colab": {
          "base_uri": "https://localhost:8080/"
        },
        "id": "_R-Bb6MrqH4o",
        "outputId": "cb7feeed-d217-4558-b5ed-5a3bf8c6800b"
      },
      "execution_count": 8,
      "outputs": [
        {
          "output_type": "stream",
          "name": "stdout",
          "text": [
            "inputs[\"encoder_inputs\"].shape: (64, 20)\n",
            "inputs[\"decoder_inputs\"].shape: (64, 20)\n",
            "targets.shape: (64, 20)\n"
          ]
        }
      ]
    },
    {
      "cell_type": "code",
      "source": [
        "class TransformerEncoder(layers.Layer):\n",
        "    def __init__(self, embed_dim, dense_dim, num_heads, **kwargs):\n",
        "        super().__init__(**kwargs)\n",
        "        self.embed_dim = embed_dim\n",
        "        self.dense_dim = dense_dim\n",
        "        self.num_heads = num_heads\n",
        "        self.attention = layers.MultiHeadAttention(\n",
        "            num_heads=num_heads, key_dim=embed_dim\n",
        "        )\n",
        "        self.dense_proj = keras.Sequential(\n",
        "            [layers.Dense(dense_dim, activation=\"relu\"), layers.Dense(embed_dim),]\n",
        "        )\n",
        "        self.layernorm_1 = layers.LayerNormalization()\n",
        "        self.layernorm_2 = layers.LayerNormalization()\n",
        "        self.supports_masking = True\n",
        "\n",
        "    def call(self, inputs, mask=None):\n",
        "        if mask is not None:\n",
        "            padding_mask = tf.cast(mask[:, tf.newaxis, tf.newaxis, :], dtype=\"int32\")\n",
        "        attention_output = self.attention(\n",
        "            query=inputs, value=inputs, key=inputs, attention_mask=padding_mask\n",
        "        )\n",
        "        proj_input = self.layernorm_1(inputs + attention_output)\n",
        "        proj_output = self.dense_proj(proj_input)\n",
        "        return self.layernorm_2(proj_input + proj_output)\n",
        "\n",
        "\n",
        "class PositionalEmbedding(layers.Layer):\n",
        "    def __init__(self, sequence_length, vocab_size, embed_dim, **kwargs):\n",
        "        super().__init__(**kwargs)\n",
        "        self.token_embeddings = layers.Embedding(\n",
        "            input_dim=vocab_size, output_dim=embed_dim\n",
        "        )\n",
        "        self.position_embeddings = layers.Embedding(\n",
        "            input_dim=sequence_length, output_dim=embed_dim\n",
        "        )\n",
        "        self.sequence_length = sequence_length\n",
        "        self.vocab_size = vocab_size\n",
        "        self.embed_dim = embed_dim\n",
        "\n",
        "    def call(self, inputs):\n",
        "        length = tf.shape(inputs)[-1]\n",
        "        positions = tf.range(start=0, limit=length, delta=1)\n",
        "        embedded_tokens = self.token_embeddings(inputs)\n",
        "        embedded_positions = self.position_embeddings(positions)\n",
        "        return embedded_tokens + embedded_positions\n",
        "\n",
        "    def compute_mask(self, inputs, mask=None):\n",
        "        return tf.math.not_equal(inputs, 0)\n",
        "\n",
        "\n",
        "class TransformerDecoder(layers.Layer):\n",
        "    def __init__(self, embed_dim, latent_dim, num_heads, **kwargs):\n",
        "        super().__init__(**kwargs)\n",
        "        self.embed_dim = embed_dim\n",
        "        self.latent_dim = latent_dim\n",
        "        self.num_heads = num_heads\n",
        "        self.attention_1 = layers.MultiHeadAttention(\n",
        "            num_heads=num_heads, key_dim=embed_dim\n",
        "        )\n",
        "        self.attention_2 = layers.MultiHeadAttention(\n",
        "            num_heads=num_heads, key_dim=embed_dim\n",
        "        )\n",
        "        self.dense_proj = keras.Sequential(\n",
        "            [layers.Dense(latent_dim, activation=\"relu\"), layers.Dense(embed_dim),]\n",
        "        )\n",
        "        self.layernorm_1 = layers.LayerNormalization()\n",
        "        self.layernorm_2 = layers.LayerNormalization()\n",
        "        self.layernorm_3 = layers.LayerNormalization()\n",
        "        self.supports_masking = True\n",
        "\n",
        "    def call(self, inputs, encoder_outputs, mask=None):\n",
        "        causal_mask = self.get_causal_attention_mask(inputs)\n",
        "        if mask is not None:\n",
        "            padding_mask = tf.cast(mask[:, tf.newaxis, :], dtype=\"int32\")\n",
        "            padding_mask = tf.minimum(padding_mask, causal_mask)\n",
        "\n",
        "        attention_output_1 = self.attention_1(\n",
        "            query=inputs, value=inputs, key=inputs, attention_mask=causal_mask\n",
        "        )\n",
        "        out_1 = self.layernorm_1(inputs + attention_output_1)\n",
        "\n",
        "        attention_output_2 = self.attention_2(\n",
        "            query=out_1,\n",
        "            value=encoder_outputs,\n",
        "            key=encoder_outputs,\n",
        "            attention_mask=padding_mask,\n",
        "        )\n",
        "        out_2 = self.layernorm_2(out_1 + attention_output_2)\n",
        "\n",
        "        proj_output = self.dense_proj(out_2)\n",
        "        return self.layernorm_3(out_2 + proj_output)\n",
        "\n",
        "    def get_causal_attention_mask(self, inputs):\n",
        "        input_shape = tf.shape(inputs)\n",
        "        batch_size, sequence_length = input_shape[0], input_shape[1]\n",
        "        i = tf.range(sequence_length)[:, tf.newaxis]\n",
        "        j = tf.range(sequence_length)\n",
        "        mask = tf.cast(i >= j, dtype=\"int32\")\n",
        "        mask = tf.reshape(mask, (1, input_shape[1], input_shape[1]))\n",
        "        mult = tf.concat(\n",
        "            [tf.expand_dims(batch_size, -1), tf.constant([1, 1], dtype=tf.int32)],\n",
        "            axis=0,\n",
        "        )\n",
        "        return tf.tile(mask, mult)"
      ],
      "metadata": {
        "id": "2F8lJYrNqJnw"
      },
      "execution_count": 9,
      "outputs": []
    },
    {
      "cell_type": "code",
      "source": [
        "embed_dim = 256\n",
        "latent_dim = 2048\n",
        "num_heads = 8\n",
        "\n",
        "encoder_inputs = keras.Input(shape=(None,), dtype=\"int64\", name=\"encoder_inputs\")\n",
        "x = PositionalEmbedding(sequence_length, vocab_size, embed_dim)(encoder_inputs)\n",
        "encoder_outputs = TransformerEncoder(embed_dim, latent_dim, num_heads)(x)\n",
        "encoder = keras.Model(encoder_inputs, encoder_outputs)\n",
        "\n",
        "decoder_inputs = keras.Input(shape=(None,), dtype=\"int64\", name=\"decoder_inputs\")\n",
        "encoded_seq_inputs = keras.Input(shape=(None, embed_dim), name=\"decoder_state_inputs\")\n",
        "x = PositionalEmbedding(sequence_length, vocab_size, embed_dim)(decoder_inputs)\n",
        "x = TransformerDecoder(embed_dim, latent_dim, num_heads)(x, encoded_seq_inputs)\n",
        "x = layers.Dropout(0.5)(x)\n",
        "decoder_outputs = layers.Dense(vocab_size, activation=\"softmax\")(x)\n",
        "decoder = keras.Model([decoder_inputs, encoded_seq_inputs], decoder_outputs)\n",
        "\n",
        "decoder_outputs = decoder([decoder_inputs, encoder_outputs])\n",
        "transformer = keras.Model(\n",
        "    [encoder_inputs, decoder_inputs], decoder_outputs, name=\"transformer\"\n",
        ")"
      ],
      "metadata": {
        "id": "kUEwpOWqqL6w"
      },
      "execution_count": 10,
      "outputs": []
    },
    {
      "cell_type": "code",
      "source": [
        "epochs = 30  # This should be at least 30 for convergence\n",
        "\n",
        "transformer.summary()\n",
        "transformer.compile(\n",
        "    \"rmsprop\", loss=\"sparse_categorical_crossentropy\", metrics=[\"accuracy\"]\n",
        ")\n",
        "transformer.fit(train_ds, epochs=epochs, validation_data=val_ds)"
      ],
      "metadata": {
        "colab": {
          "base_uri": "https://localhost:8080/"
        },
        "id": "IXSr1CsxqORv",
        "outputId": "b9eff497-3d31-4871-ad95-ee965015df86"
      },
      "execution_count": 11,
      "outputs": [
        {
          "output_type": "stream",
          "name": "stdout",
          "text": [
            "Model: \"transformer\"\n",
            "__________________________________________________________________________________________________\n",
            " Layer (type)                   Output Shape         Param #     Connected to                     \n",
            "==================================================================================================\n",
            " encoder_inputs (InputLayer)    [(None, None)]       0           []                               \n",
            "                                                                                                  \n",
            " positional_embedding (Position  (None, None, 256)   3845120     ['encoder_inputs[0][0]']         \n",
            " alEmbedding)                                                                                     \n",
            "                                                                                                  \n",
            " decoder_inputs (InputLayer)    [(None, None)]       0           []                               \n",
            "                                                                                                  \n",
            " transformer_encoder (Transform  (None, None, 256)   3155456     ['positional_embedding[0][0]']   \n",
            " erEncoder)                                                                                       \n",
            "                                                                                                  \n",
            " model_1 (Functional)           (None, None, 15000)  12959640    ['decoder_inputs[0][0]',         \n",
            "                                                                  'transformer_encoder[0][0]']    \n",
            "                                                                                                  \n",
            "==================================================================================================\n",
            "Total params: 19,960,216\n",
            "Trainable params: 19,960,216\n",
            "Non-trainable params: 0\n",
            "__________________________________________________________________________________________________\n",
            "Epoch 1/30\n",
            "508/508 [==============================] - 44s 70ms/step - loss: 1.7592 - accuracy: 0.3573 - val_loss: 1.4722 - val_accuracy: 0.4080\n",
            "Epoch 2/30\n",
            "508/508 [==============================] - 35s 68ms/step - loss: 1.5567 - accuracy: 0.4197 - val_loss: 1.3870 - val_accuracy: 0.4443\n",
            "Epoch 3/30\n",
            "508/508 [==============================] - 37s 72ms/step - loss: 1.4657 - accuracy: 0.4511 - val_loss: 1.3264 - val_accuracy: 0.4713\n",
            "Epoch 4/30\n",
            "508/508 [==============================] - 35s 69ms/step - loss: 1.3899 - accuracy: 0.4754 - val_loss: 1.2638 - val_accuracy: 0.4932\n",
            "Epoch 5/30\n",
            "508/508 [==============================] - 35s 69ms/step - loss: 1.3230 - accuracy: 0.4965 - val_loss: 1.2231 - val_accuracy: 0.5074\n",
            "Epoch 6/30\n",
            "508/508 [==============================] - 35s 69ms/step - loss: 1.2628 - accuracy: 0.5161 - val_loss: 1.1928 - val_accuracy: 0.5213\n",
            "Epoch 7/30\n",
            "508/508 [==============================] - 35s 70ms/step - loss: 1.2122 - accuracy: 0.5339 - val_loss: 1.1758 - val_accuracy: 0.5331\n",
            "Epoch 8/30\n",
            "508/508 [==============================] - 36s 70ms/step - loss: 1.1650 - accuracy: 0.5489 - val_loss: 1.1588 - val_accuracy: 0.5336\n",
            "Epoch 9/30\n",
            "508/508 [==============================] - 36s 70ms/step - loss: 1.1252 - accuracy: 0.5633 - val_loss: 1.1238 - val_accuracy: 0.5501\n",
            "Epoch 10/30\n",
            "508/508 [==============================] - 36s 70ms/step - loss: 1.0958 - accuracy: 0.5769 - val_loss: 1.1383 - val_accuracy: 0.5406\n",
            "Epoch 11/30\n",
            "508/508 [==============================] - 36s 70ms/step - loss: 1.0721 - accuracy: 0.5892 - val_loss: 1.1016 - val_accuracy: 0.5581\n",
            "Epoch 12/30\n",
            "508/508 [==============================] - 36s 70ms/step - loss: 1.0568 - accuracy: 0.5996 - val_loss: 1.0931 - val_accuracy: 0.5616\n",
            "Epoch 13/30\n",
            "508/508 [==============================] - 36s 70ms/step - loss: 1.0495 - accuracy: 0.6077 - val_loss: 1.1010 - val_accuracy: 0.5661\n",
            "Epoch 14/30\n",
            "508/508 [==============================] - 36s 70ms/step - loss: 1.0399 - accuracy: 0.6158 - val_loss: 1.1032 - val_accuracy: 0.5670\n",
            "Epoch 15/30\n",
            "508/508 [==============================] - 36s 70ms/step - loss: 1.0286 - accuracy: 0.6226 - val_loss: 1.0868 - val_accuracy: 0.5778\n",
            "Epoch 16/30\n",
            "508/508 [==============================] - 36s 70ms/step - loss: 1.0178 - accuracy: 0.6298 - val_loss: 1.1005 - val_accuracy: 0.5733\n",
            "Epoch 17/30\n",
            "508/508 [==============================] - 35s 70ms/step - loss: 1.0074 - accuracy: 0.6371 - val_loss: 1.0962 - val_accuracy: 0.5742\n",
            "Epoch 18/30\n",
            "508/508 [==============================] - 36s 70ms/step - loss: 0.9982 - accuracy: 0.6425 - val_loss: 1.1006 - val_accuracy: 0.5763\n",
            "Epoch 19/30\n",
            "508/508 [==============================] - 36s 70ms/step - loss: 0.9911 - accuracy: 0.6474 - val_loss: 1.0943 - val_accuracy: 0.5796\n",
            "Epoch 20/30\n",
            "508/508 [==============================] - 36s 70ms/step - loss: 0.9832 - accuracy: 0.6527 - val_loss: 1.0994 - val_accuracy: 0.5796\n",
            "Epoch 21/30\n",
            "508/508 [==============================] - 36s 71ms/step - loss: 0.9758 - accuracy: 0.6571 - val_loss: 1.1133 - val_accuracy: 0.5691\n",
            "Epoch 22/30\n",
            "508/508 [==============================] - 36s 72ms/step - loss: 0.9682 - accuracy: 0.6621 - val_loss: 1.1086 - val_accuracy: 0.5764\n",
            "Epoch 23/30\n",
            "508/508 [==============================] - 36s 71ms/step - loss: 0.9606 - accuracy: 0.6661 - val_loss: 1.1091 - val_accuracy: 0.5828\n",
            "Epoch 24/30\n",
            "508/508 [==============================] - 36s 72ms/step - loss: 0.9524 - accuracy: 0.6702 - val_loss: 1.1121 - val_accuracy: 0.5783\n",
            "Epoch 25/30\n",
            "508/508 [==============================] - 36s 71ms/step - loss: 0.9453 - accuracy: 0.6742 - val_loss: 1.1147 - val_accuracy: 0.5801\n",
            "Epoch 26/30\n",
            "508/508 [==============================] - 36s 71ms/step - loss: 0.9405 - accuracy: 0.6789 - val_loss: 1.1259 - val_accuracy: 0.5787\n",
            "Epoch 27/30\n",
            "508/508 [==============================] - 36s 71ms/step - loss: 0.9357 - accuracy: 0.6815 - val_loss: 1.1292 - val_accuracy: 0.5776\n",
            "Epoch 28/30\n",
            "508/508 [==============================] - 36s 71ms/step - loss: 0.9295 - accuracy: 0.6850 - val_loss: 1.1281 - val_accuracy: 0.5807\n",
            "Epoch 29/30\n",
            "508/508 [==============================] - 36s 70ms/step - loss: 0.9243 - accuracy: 0.6879 - val_loss: 1.1315 - val_accuracy: 0.5851\n",
            "Epoch 30/30\n",
            "508/508 [==============================] - 36s 71ms/step - loss: 0.9160 - accuracy: 0.6915 - val_loss: 1.1452 - val_accuracy: 0.5837\n"
          ]
        },
        {
          "output_type": "execute_result",
          "data": {
            "text/plain": [
              "<keras.callbacks.History at 0x7f71ba2c4850>"
            ]
          },
          "metadata": {},
          "execution_count": 11
        }
      ]
    },
    {
      "cell_type": "code",
      "source": [
        "pol_vocab = pol_vectorization.get_vocabulary()\n",
        "pol_index_lookup = dict(zip(range(len(pol_vocab)), pol_vocab))\n",
        "max_decoded_sentence_length = 20\n",
        "\n",
        "\n",
        "def decode_sequence(input_sentence):\n",
        "    tokenized_input_sentence = eng_vectorization([input_sentence])\n",
        "    decoded_sentence = \"[start]\"\n",
        "    for i in range(max_decoded_sentence_length):\n",
        "        tokenized_target_sentence = pol_vectorization([decoded_sentence])[:, :-1]\n",
        "        predictions = transformer([tokenized_input_sentence, tokenized_target_sentence])\n",
        "\n",
        "        sampled_token_index = np.argmax(predictions[0, i, :])\n",
        "        sampled_token = pol_index_lookup[sampled_token_index]\n",
        "        decoded_sentence += \" \" + sampled_token\n",
        "\n",
        "        if sampled_token == \"[end]\":\n",
        "            break\n",
        "    return decoded_sentence\n"
      ],
      "metadata": {
        "id": "jADVtAJfvKQF"
      },
      "execution_count": 12,
      "outputs": []
    },
    {
      "cell_type": "code",
      "source": [
        "test_eng_texts = [pair[0] for pair in test_pairs]\n",
        "for _ in range(30):\n",
        "    input_sentence = random.choice(test_eng_texts)\n",
        "    translated = decode_sequence(input_sentence)\n",
        "    print(f'{input_sentence} => {translated}')"
      ],
      "metadata": {
        "colab": {
          "base_uri": "https://localhost:8080/"
        },
        "id": "FCHVfbqVvaEG",
        "outputId": "c936762e-04a5-419f-8999-b14d82c6f1f6"
      },
      "execution_count": 13,
      "outputs": [
        {
          "output_type": "stream",
          "name": "stdout",
          "text": [
            "Don't be scared. => [start] nie obchodzi mnie [end]\n",
            "I hope you had a good night's sleep. => [start] mam nadzieję że będzie [UNK] nie to wieczorem [end]\n",
            "You're the one who must decide. => [start] ci jest pokój musi iść [end]\n",
            "I'm tired of talking to you about this. => [start] jestem już z tobą na to [end]\n",
            "I never for a moment imagined that I would win. => [start] nigdy w czasie nie miałem w wypadku [UNK] nie [end]\n",
            "Do you want something? => [start] chcesz coś [end]\n",
            "Tom knows what to say. => [start] tom wie co powiedzieć [end]\n",
            "Tom loves his work. => [start] tom kocha pracę [end]\n",
            "He put the book on the shelf. => [start] zdjął książkę w się [end]\n",
            "You're selfish. => [start] jesteś [UNK] [end]\n",
            "Whose notebook is that? => [start] czyj to pokój [end]\n",
            "Tom paid. => [start] tom [end]\n",
            "That's the way it is. => [start] to tak jest [end]\n",
            "I can't even pretend to be Tom's friend. => [start] nie jestem naprawdę przyjacielem toma [end]\n",
            "Have you ever eaten raw fish? => [start] czy kiedyś [UNK] na ryby [end]\n",
            "May I turn down the TV? => [start] czy mogę się [UNK] w telewizji [end]\n",
            "Did you take the money? => [start] czy [UNK] pieniądze [end]\n",
            "There are a bunch of kids playing on the street just outside my window. => [start] na twoim tego ryby gdy trzy ulicy [end]\n",
            "We've done what we can to help. => [start] mieliśmy w stanie pomóc [end]\n",
            "Tom asked Mary which way to turn. => [start] tom poprosił mary o [UNK] do [UNK] [end]\n",
            "In case of an emergency, get in touch with my agent. => [start] w [UNK] [UNK] z nami [end]\n",
            "Tom walks. => [start] tom robi [end]\n",
            "That dog is big. => [start] ten pies jest bardzo [end]\n",
            "I lost my wallet. => [start] zgubiłem mój portfel [end]\n",
            "You need to wash this shirt. => [start] musisz to [UNK] [end]\n",
            "I don't like windy days. => [start] nie lubię [UNK] kawy [end]\n",
            "You're misunderstood. => [start] [UNK] mnie [end]\n",
            "Tom wanted a place in the country he could call home. => [start] tom chciał w swoim [UNK] [UNK] do domu [end]\n",
            "We visited quite a few places. => [start] mieliśmy bardzo [UNK] nie na miejsce [end]\n",
            "I'll see you in the morning. => [start] do ciebie [UNK] rano [end]\n"
          ]
        }
      ]
    },
    {
      "cell_type": "code",
      "source": [
        "print(decode_sequence('hello'))\n",
        "print(decode_sequence('hi'))\n",
        "print(decode_sequence('works like a charm'))"
      ],
      "metadata": {
        "colab": {
          "base_uri": "https://localhost:8080/"
        },
        "id": "mbvxv3nNvuY-",
        "outputId": "3b9671e4-5fab-414c-9f88-0c1c939e00ef"
      },
      "execution_count": 20,
      "outputs": [
        {
          "output_type": "stream",
          "name": "stdout",
          "text": [
            "[start] [end]\n",
            "[start] tom i do siebie nie [end]\n",
            "[start] działa [UNK] [end]\n"
          ]
        }
      ]
    }
  ]
}